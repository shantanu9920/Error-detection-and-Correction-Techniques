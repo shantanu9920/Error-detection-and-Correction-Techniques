{
 "cells": [
  {
   "cell_type": "code",
   "execution_count": 3,
   "metadata": {
    "collapsed": false
   },
   "outputs": [
    {
     "name": "stdout",
     "output_type": "stream",
     "text": [
      "[0, 1, 0, 1, 1, 0, 1, 0, 1, 0, 1, 1, 0, 1]\n",
      "[0, 1, 1, 1, 1, 0, 1, 0, 1, 1, 1, 1, 0, 1]\n",
      "[0, 1, 0, 1, 1, 0, 1, 0, 1, 0, 1, 1, 0, 1]\n"
     ]
    }
   ],
   "source": [
    "from random import randint\n",
    "a = [1,0,1,0,1,0,1]\n",
    "n = len(a)\n",
    "k = 4 - n%4\n",
    "b = 0\n",
    "while(k>0):\n",
    "    a = [b] + a\n",
    "    k=k-1\n",
    "    \n",
    "i=0\n",
    "n = len(a)\n",
    "l = []\n",
    "h = []\n",
    "while(i<n):\n",
    "    m = []\n",
    "    m.append(a[i])\n",
    "    m.append(a[i+1])\n",
    "    m.append(a[i+2])\n",
    "    m.append(m[0]^m[1]^m[2])\n",
    "    m.append(a[i+3])\n",
    "    m.append(m[0]^m[1]^m[4])\n",
    "    m.append(m[0]^m[2]^m[4])\n",
    "    l = l + m\n",
    "    \n",
    "    # l array is actual data\n",
    "    # Error is inserted  in h array\n",
    "    \n",
    "    irand = randint(0,6)\n",
    "    if(m[irand]==0):\n",
    "        m[irand] = 1\n",
    "    else:\n",
    "        m[irand] = 0\n",
    "    h = h + m\n",
    "    \n",
    "    i = i+4\n",
    "    \n",
    "print(l)\n",
    "print(h)\n",
    "  \n",
    "\n",
    "d = len(h)\n",
    "j=0\n",
    "while(j<d):\n",
    "    c1 = h[j+6]^h[j+4]^h[j+2]^h[j]\n",
    "    c2 = h[j+5]^h[j+4]^h[j+1]^h[j]\n",
    "    c3 = h[j+3]^h[j+2]^h[j+1]^h[j]\n",
    "    c = c3*4+c2*2+c1\n",
    "\n",
    "    #Error will always be there\n",
    "    \n",
    "    if(h[j+7-c]==0):\n",
    "        h[j+7-c] = 1\n",
    "    else:\n",
    "        h[j+7-c] = 0\n",
    "        \n",
    "    j = j+7\n",
    "\n",
    "print(h)\n",
    "    \n"
   ]
  },
  {
   "cell_type": "code",
   "execution_count": null,
   "metadata": {
    "collapsed": true
   },
   "outputs": [],
   "source": []
  },
  {
   "cell_type": "code",
   "execution_count": null,
   "metadata": {
    "collapsed": true
   },
   "outputs": [],
   "source": []
  }
 ],
 "metadata": {
  "kernelspec": {
   "display_name": "Python 3",
   "language": "python",
   "name": "python3"
  },
  "language_info": {
   "codemirror_mode": {
    "name": "ipython",
    "version": 3
   },
   "file_extension": ".py",
   "mimetype": "text/x-python",
   "name": "python",
   "nbconvert_exporter": "python",
   "pygments_lexer": "ipython3",
   "version": "3.6.0"
  }
 },
 "nbformat": 4,
 "nbformat_minor": 2
}
